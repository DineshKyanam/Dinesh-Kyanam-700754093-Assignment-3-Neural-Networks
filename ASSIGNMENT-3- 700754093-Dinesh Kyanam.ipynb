{
 "cells": [
  {
   "cell_type": "code",
   "execution_count": 6,
   "id": "00751218",
   "metadata": {},
   "outputs": [
    {
     "name": "stdout",
     "output_type": "stream",
     "text": [
      "1\n",
      "2\n",
      "3\n",
      "4\n",
      "Employee Details:\n",
      "Name: Dinesh, Family: Kyanam, Salary: 50000, Department: HR\n",
      "Name: Kishore, Family: Pathrapalli, Salary: 60000, Department: Finance\n",
      "\n",
      "Fulltime Employee Details:\n",
      "Name: Jagadeesh, Family: Gambling, Salary: 70000, Department: IT\n",
      "Name: Nikhil, Family: Kyanam, Salary: 80000, Department: Marketing\n",
      "\n",
      "Average Salary: 65000.0\n"
     ]
    }
   ],
   "source": [
    "class Employee:\n",
    "    employee_count = 0\n",
    "\n",
    "    def __init__(self, name, family, salary, department):\n",
    "        self.name = name\n",
    "        self.family = family\n",
    "        self.salary = salary\n",
    "        self.department = department\n",
    "\n",
    "        Employee.employee_count += 1\n",
    "        print(Employee.employee_count)\n",
    "\n",
    "    def display_employee_details(self):\n",
    "        print(f\"Name: {self.name}, Family: {self.family}, Salary: {self.salary}, Department: {self.department}\")\n",
    "\n",
    " \n",
    "    def average_salary(employee_list):\n",
    "        total_salary = sum(emp.salary for emp in employee_list)\n",
    "        return total_salary / len(employee_list) if len(employee_list) > 0 else 0\n",
    "\n",
    "\n",
    "class FulltimeEmployee(Employee):\n",
    "    def __init__(self, name, family, salary, department, hours_per_week):\n",
    "\n",
    "        super().__init__(name, family, salary, department)\n",
    "        self.hours_per_week = hours_per_week\n",
    "\n",
    "\n",
    "\n",
    "employee1 = Employee(\"Dinesh\", \"Kyanam\", 50000, \"HR\")\n",
    "employee2 = Employee(\"Kishore\", \"Pathrapalli\", 60000, \"Finance\")\n",
    "\n",
    "\n",
    "fulltime_employee1 = FulltimeEmployee(\"Jagadeesh\", \"Gambling\", 70000, \"IT\", 40)\n",
    "fulltime_employee2 = FulltimeEmployee(\"Nikhil\", \"Kyanam\", 80000, \"Marketing\", 35)\n",
    "print(\"Employee Details:\")\n",
    "employee1.display_employee_details()\n",
    "employee2.display_employee_details()\n",
    "print(\"\\nFulltime Employee Details:\")\n",
    "fulltime_employee1.display_employee_details()\n",
    "fulltime_employee2.display_employee_details()\n",
    "employee_list = [employee1, employee2, fulltime_employee1, fulltime_employee2]\n",
    "avg_salary = Employee.average_salary(employee_list)\n",
    "print(f\"\\nAverage Salary: {avg_salary}\")"
   ]
  },
  {
   "cell_type": "code",
   "execution_count": 3,
   "id": "e198c4e0",
   "metadata": {},
   "outputs": [
    {
     "name": "stdout",
     "output_type": "stream",
     "text": [
      "Original Matrix:\n",
      "[[12.7779986  16.89145263 15.28166494  1.02165094  4.68486475]\n",
      " [11.44991746  8.85212188  4.2917247   3.90645297 18.85267334]\n",
      " [ 5.35693885 10.85398738 15.99482049  1.00645673  3.94225776]\n",
      " [19.01116024 16.00777724 13.65313989  4.23750544  7.76228123]]\n",
      "\n",
      "Matrix after replacing max in each row with 0:\n",
      "[[12.7779986   0.         15.28166494  1.02165094  4.68486475]\n",
      " [11.44991746  8.85212188  4.2917247   3.90645297  0.        ]\n",
      " [ 5.35693885 10.85398738  0.          1.00645673  3.94225776]\n",
      " [ 0.         16.00777724 13.65313989  4.23750544  7.76228123]]\n"
     ]
    }
   ],
   "source": [
    "import numpy as np\n",
    "random_vector = np.random.uniform(1, 20, 20)\n",
    "reshaped_array = random_vector.reshape(4, 5)\n",
    "print(\"Original Matrix:\")\n",
    "print(reshaped_array)\n",
    "reshaped_array[np.arange(len(reshaped_array)), np.argmax(reshaped_array, axis=1)] = 0\n",
    "print(\"\\nMatrix after replacing max in each row with 0:\")\n",
    "print(reshaped_array)"
   ]
  },
  {
   "cell_type": "code",
   "execution_count": null,
   "id": "45565886",
   "metadata": {},
   "outputs": [],
   "source": []
  }
 ],
 "metadata": {
  "kernelspec": {
   "display_name": "Python 3 (ipykernel)",
   "language": "python",
   "name": "python3"
  },
  "language_info": {
   "codemirror_mode": {
    "name": "ipython",
    "version": 3
   },
   "file_extension": ".py",
   "mimetype": "text/x-python",
   "name": "python",
   "nbconvert_exporter": "python",
   "pygments_lexer": "ipython3",
   "version": "3.11.5"
  }
 },
 "nbformat": 4,
 "nbformat_minor": 5
}
